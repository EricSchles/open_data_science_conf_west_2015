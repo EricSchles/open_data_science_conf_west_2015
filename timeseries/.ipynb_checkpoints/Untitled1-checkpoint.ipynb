{
 "cells": [
  {
   "cell_type": "code",
   "execution_count": null,
   "metadata": {
    "collapsed": true
   },
   "outputs": [],
   "source": [
    "import numpy as np\n",
    "from scipy import stats\n",
    "import pandas\n",
    "import matplotlib.pyplot as plt\n",
    "import statsmodels.api as sm\n",
    "from statsmodels.graphics.api import qqplot\n",
    "\n",
    "dta = pd.read_csv(\"homeless_data.csv\")\n",
    "dta.index = pandas.Index(sm.tsa.datetools.dates_from_range(\"1700\",\"2008\"))\n",
    "del dta[\"YEAR\"]\n",
    "dta.plot(figsize=(12,8))\n",
    "\n",
    "fig = plt.figure(figsize=(12,8))\n",
    "ax1 = fig.add_subplot(211)\n",
    "fig = sm.graphics.tsa.plot_acf(dta.values.squeeze(), lags=40, ax=ax1)\n",
    "ax2 = fig.add_subplot(212)\n",
    "fig = sm.graphics.tsa.plot_pacf(dta, lags=40, ax=ax2)\n",
    "\n",
    "arma_mod20 = sm.tsa.ARMA(dta, (2,0)).fit()\n",
    "arma_mod30 = sm.tsa.ARMA(dta, (3,0)).fit()\n",
    "\n",
    "fig = plt.figure(figsize=(12,8))\n",
    "ax = fig.add_subplot(111)\n",
    "ax = arma_mod30.resid.plot(ax=ax)\n",
    "resid = arma_mod30.resid\n",
    "fig = plt.figure(figsize=(12,8))\n",
    "ax = fig.add_subplot(111)\n",
    "fig = qqplot(resid, line='q', ax=ax, fit=True)\n",
    "\n",
    "r,q,p = sm.tsa.acf(resid.values.squeeze(), qstat=True)\n",
    "data = np.c_[range(1,41), r[1:], q, p]\n",
    "table = pandas.DataFrame(data, columns=['lag',\"AC\", \"Q\", \"Prob(>Q)\"])\n",
    "print table.set_index('lag')\n",
    "\n",
    "predict_sunspots = arma_mod30.predict(\"1990\",\"2012\", dynamic=True)\n",
    "ax = dta.ix['1950':].plot(figsize=(12,8))\n",
    "ax = predict_sunspots.plot(ax=ax, style=\"r--\", label=\"Dynamic Prediction\")\n",
    "ax.legend()\n",
    "ax.axis((-20.0,38.0,-4.0,200.0))\n",
    "plt.show()\n"
   ]
  }
 ],
 "metadata": {
  "kernelspec": {
   "display_name": "Python 2",
   "language": "python",
   "name": "python2"
  },
  "language_info": {
   "codemirror_mode": {
    "name": "ipython",
    "version": 2
   },
   "file_extension": ".py",
   "mimetype": "text/x-python",
   "name": "python",
   "nbconvert_exporter": "python",
   "pygments_lexer": "ipython2",
   "version": "2.7.6"
  }
 },
 "nbformat": 4,
 "nbformat_minor": 0
}
