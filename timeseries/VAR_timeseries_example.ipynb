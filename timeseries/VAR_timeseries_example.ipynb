{
 "cells": [
  {
   "cell_type": "code",
   "execution_count": 1,
   "metadata": {
    "collapsed": false
   },
   "outputs": [],
   "source": [
    "import statsmodels.tsa.api as sm_api\n",
    "import statsmodels as sm\n",
    "from statsmodels.tsa.base.datetools import dates_from_str\n",
    "import numpy as np\n",
    "import pandas as pd\n",
    "from matplotlib import pyplot as plt\n",
    "\n",
    "mdata = sm.datasets.macrodata.load_pandas().data\n",
    "\n",
    "#processing the data and creating timeseries\n",
    "dates = mdata[['year','quarter']].astype(int).astype(str)\n",
    "quarterly = dates[\"year\"] + \"Q\" + dates[\"quarter\"]\n",
    "quarterly = dates_from_str(quarterly)\n",
    "\n",
    "mdata = mdata[['realgdp','realcons','realinv']]\n",
    "mdata.index = pd.DatetimeIndex(quarterly)\n",
    "#small cleaning\n",
    "data = np.log(mdata).diff().dropna()\n",
    "\n",
    "#intializing autoregression model\n",
    "var_model = sm_api.VAR(data)\n",
    "\n",
    "#fitting results\n",
    "results = var_model.fit(2)\n",
    "\n",
    "#plotting results\n",
    "irf = results.irf(10)\n",
    "irf.plot(orth=False)\n",
    "#irf.plot(impulse='realgdp')\n",
    "#irf.plot_cum_effects(orth=False)\n",
    "plt.show()\n",
    "#let's watch it run!"
   ]
  }
 ],
 "metadata": {
  "kernelspec": {
   "display_name": "Python 2",
   "language": "python",
   "name": "python2"
  },
  "language_info": {
   "codemirror_mode": {
    "name": "ipython",
    "version": 2
   },
   "file_extension": ".py",
   "mimetype": "text/x-python",
   "name": "python",
   "nbconvert_exporter": "python",
   "pygments_lexer": "ipython2",
   "version": "2.7.6"
  }
 },
 "nbformat": 4,
 "nbformat_minor": 0
}
